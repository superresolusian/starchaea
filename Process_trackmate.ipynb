{
 "cells": [
  {
   "cell_type": "markdown",
   "metadata": {},
   "source": [
    "# About this notebook\n",
    "This notebook is an example of how to perform the following tasks:\n",
    "* Read .csv files generated from Trackmate\n",
    "* Crop out .tif files for division regions\n",
    "* Export ROIs associated with divisions"
   ]
  },
  {
   "cell_type": "markdown",
   "metadata": {},
   "source": [
    "## Python imports\n",
    "The cell below deals with importing necessary packages and dependencies for running the notebook. You don't need to worry about what it does, it just needs to be run :)"
   ]
  },
  {
   "cell_type": "code",
   "execution_count": 1,
   "metadata": {},
   "outputs": [
    {
     "name": "stderr",
     "output_type": "stream",
     "text": [
      "Using TensorFlow backend.\n"
     ]
    }
   ],
   "source": [
    "from __future__ import print_function, unicode_literals, absolute_import, division\n",
    "import numpy as np\n",
    "import matplotlib.pyplot as plt\n",
    "import matplotlib.path as mpltPath\n",
    "%matplotlib inline\n",
    "%config InlineBackend.figure_format = 'retina'\n",
    "import scipy.optimize as opt\n",
    "from scipy.ndimage.filters import gaussian_filter\n",
    "\n",
    "from glob import glob\n",
    "from tqdm.notebook import tqdm\n",
    "from tifffile import imread, TiffFile\n",
    "\n",
    "from csbdeep.utils import Path, normalize\n",
    "from csbdeep.io import save_tiff_imagej_compatible\n",
    "from skimage.draw import polygon\n",
    "\n",
    "from stardist import export_imagej_rois\n",
    "from stardist.models import StarDist2D\n",
    "\n",
    "import csv\n",
    "from pathlib import Path"
   ]
  },
  {
   "cell_type": "markdown",
   "metadata": {},
   "source": [
    "## File information\n",
    "The below cell tells the code where to find the file(s) to analyse, and also any preferences you have for the analysis.\n",
    "\n",
    "### File location\n",
    "`base_dir` is the path containing the folder structure with outputs from the `Collated_process_up_to_Trackmate.ipynb` notebook and `Tracking_helper.ijm` ImageJ macro.\n",
    "\n",
    "### Analysis settings\n",
    "`drift_corrected` is a flag to tell the code whether the analysis was performed on drift-corrected data or not (where drift-correction was performed in `Collated_process_up_to_Trackmate.ipynb`. This should be `True` is drift correction was performed, otherwise it should be `False`.\n",
    "\n",
    "`two_colour_analysis` is a flag to tell the code whether the analysis was performed on two-colour data or not. This should be set to `True` if it was, otherwise this should be `False`.\n",
    "\n",
    "`tracking_channel` is the channel that tracking was performed on, in the case of two-colour datasets. For example, if tracking was performed on channel 1, this value should be set to `1` accordingly. Ignore this variable if you're working on a single-colour dataset."
   ]
  },
  {
   "cell_type": "code",
   "execution_count": 2,
   "metadata": {},
   "outputs": [],
   "source": [
    "base_dir = raw_file_path = r'.\\data\\two-colour data'\n",
    "\n",
    "drift_corrected = True\n",
    "two_colour_analysis = True\n",
    "tracking_channel = 1"
   ]
  },
  {
   "cell_type": "markdown",
   "metadata": {},
   "source": [
    "The next cell loads the file paths into the code. It shouldn't need changing!\n",
    "\n",
    "From now on 'tracked' refers to the channel on which Trackmate was run, and 'untracked' refers to the second channel, if applicable."
   ]
  },
  {
   "cell_type": "code",
   "execution_count": 3,
   "metadata": {},
   "outputs": [
    {
     "name": "stdout",
     "output_type": "stream",
     "text": [
      "There are 2 files to analyse\n",
      "Successfully created save directory\n"
     ]
    }
   ],
   "source": [
    "# Load raw files\n",
    "base_dir = Path(base_dir)\n",
    "raw_dir = base_dir/f'raw data'\n",
    "raw_files = sorted(Path(raw_dir).rglob('*.tif'))\n",
    "\n",
    "# Load drift-corrected files\n",
    "if drift_corrected:\n",
    "    registered_dir = base_dir/f'registered data'\n",
    "    registered_files = sorted(Path(registered_dir).rglob('*.tif'))\n",
    "             \n",
    "# Load Trackmate output\n",
    "tracks_dir = base_dir/f'tracking results'\n",
    "tracks_files = sorted(Path(tracks_dir).rglob('*.csv'))\n",
    "                              \n",
    "# Load Stardist results\n",
    "stardist_dir = base_dir/f'stardist results'\n",
    "\n",
    "if two_colour_analysis:\n",
    "    stardist_1_dir = stardist_dir/f'channel 1'\n",
    "    stardist_2_dir = stardist_dir/f'channel 2'\n",
    "\n",
    "if not two_colour_analysis:\n",
    "    stardist_files_tracked_python = sorted(Path(stardist_dir).rglob('*.npz'))\n",
    "    stardist_files_tracked_imagej = sorted(Path(stardist_dir).rglob('*.zip'))\n",
    "else:\n",
    "    if tracking_channel==1:        \n",
    "        stardist_files_tracked_python = sorted(Path(stardist_1_dir).rglob('*.npz'))\n",
    "        stardist_files_tracked_imagej = sorted(Path(stardist_1_dir).rglob('*.zip'))\n",
    "        stardist_files_untracked_python = sorted(Path(stardist_2_dir).rglob('*.npz'))\n",
    "        stardist_files_untracked_imagej = sorted(Path(stardist_2_dir).rglob('*.zip'))\n",
    "    elif tracking_channel==2:\n",
    "        stardist_files_tracked_python = sorted(Path(stardist_2_dir).rglob('*.npz'))\n",
    "        stardist_files_tracked_imagej = sorted(Path(stardist_2_dir).rglob('*.zip'))\n",
    "        stardist_files_untracked_python = sorted(Path(stardist_1_dir).rglob('*.npz'))\n",
    "        stardist_files_untracked_imagej = sorted(Path(stardist_1_dir).rglob('*.zip'))\n",
    "    else:\n",
    "        raise ValueError('Value assigned to tracking_channel is a baddy')\n",
    "                              \n",
    "# Create save directory\n",
    "results_dir = base_dir/f'results'\n",
    "results_dir.mkdir(exist_ok=True)\n",
    "\n",
    "n_files_to_analyse = len(tracks_files)\n",
    "print(f'There are {n_files_to_analyse} files to analyse')\n",
    "\n",
    "print(\"Successfully created save directory\")"
   ]
  },
  {
   "cell_type": "markdown",
   "metadata": {},
   "source": [
    "## Retrieving matching files\n",
    "This cell is another little helper for getting files. Just run it, accept it, and move on."
   ]
  },
  {
   "cell_type": "code",
   "execution_count": 4,
   "metadata": {},
   "outputs": [],
   "source": [
    "def get_matching_files(f, drift_corrected, two_colour_analysis):\n",
    "    \n",
    "    rois_python_untracked = None\n",
    "    rois_imagej_untracked = None\n",
    "    \n",
    "    if drift_corrected:\n",
    "        for file in registered_files:\n",
    "            if str(f) in str(file):\n",
    "                registered = file\n",
    "                break\n",
    "    else:\n",
    "        for file in raw_files:\n",
    "            if str(f) in str(file):\n",
    "                registered = file\n",
    "                break\n",
    "\n",
    "    if not two_colour_analysis:\n",
    "     \n",
    "        for file in stardist_files_tracked_python:\n",
    "            if str(f) in str(file):\n",
    "                rois_python_tracked = file\n",
    "                break\n",
    "    \n",
    "        for file in stardist_files_tracked_imagej:\n",
    "            if str(f) in str(file):\n",
    "                rois_imagej_tracked = file\n",
    "                break\n",
    "    \n",
    "    else:\n",
    "        \n",
    "        for file in stardist_files_tracked_python:\n",
    "            if str(f) in str(file):\n",
    "                rois_python_tracked = file\n",
    "                break\n",
    "        for file in stardist_files_tracked_imagej:\n",
    "            if str(f) in str(file):\n",
    "                rois_imagej_tracked = file\n",
    "                break\n",
    "    \n",
    "        for file in stardist_files_untracked_python:\n",
    "            if str(f) in str(file):\n",
    "                rois_python_untracked = file\n",
    "                break\n",
    "        for file in stardist_files_untracked_imagej:\n",
    "            if str(f) in str(file):\n",
    "                rois_imagej_untracked = file\n",
    "                break\n",
    "    \n",
    "    \n",
    "    for file in tracks_files:\n",
    "        if str(f) in str(file):\n",
    "            rois_trackmate = file\n",
    "            break\n",
    "            \n",
    "    \n",
    "    return registered, rois_python_tracked, rois_imagej_tracked, rois_python_untracked, rois_imagej_untracked, rois_trackmate\n",
    "    "
   ]
  },
  {
   "cell_type": "markdown",
   "metadata": {},
   "source": [
    "### Image pre-processing\n",
    "This cell ensures that datasets are the correct dimensions and also performs normalisation for user-friendly visualisation later on."
   ]
  },
  {
   "cell_type": "code",
   "execution_count": 5,
   "metadata": {},
   "outputs": [],
   "source": [
    "def track_pre_process(image):\n",
    "    T = imread(str(image))\n",
    "\n",
    "    print(f\"Normalizing each frame -> 'timelapse' is meant for plotting, use 'T' for further analysis\", flush=True)\n",
    "    timelapse = T\n",
    "    timelapse = np.stack([normalize(frame, 1,99.8, axis=(-2,-1), clip=True) for frame in tqdm(timelapse)])\n",
    "\n",
    "    if T.ndim == 3:\n",
    "        axes = 'TYX'\n",
    "        timelapse = timelapse[...,np.newaxis]\n",
    "        timelapse = np.repeat(timelapse,3,axis=-1)\n",
    "    elif T.ndim == 4:\n",
    "        axes = 'TCYX'\n",
    "        assert timelapse.shape[1] == 2\n",
    "        timelapse = np.moveaxis(timelapse,1,0)\n",
    "        timelapse = np.stack((*timelapse, np.zeros_like(timelapse[0])),axis=-1)\n",
    "    else:\n",
    "        raise ValueError(\"not supported\")\n",
    "        \n",
    "    with TiffFile(str(image)) as _file:\n",
    "        imagej_metadata = _file.imagej_metadata\n",
    "        \n",
    "    print(f\"Timelapse has axes {axes.replace('C','')} with shape {timelapse.shape}\")\n",
    "\n",
    "    return timelapse, T, imagej_metadata, axes"
   ]
  },
  {
   "cell_type": "markdown",
   "metadata": {},
   "source": [
    "### Load ROIs and tracks\n",
    "This is the specific function that loads the Stardist ROIs and the indices of ROIs in the identified tracks into handy lists."
   ]
  },
  {
   "cell_type": "code",
   "execution_count": 6,
   "metadata": {},
   "outputs": [],
   "source": [
    "def load_rois_and_tracks(rois_trackmate, rois_python_tracked, rois_python_untracked=None):\n",
    "    \n",
    "    print(f\"Loading tracked python polygons from {rois_python_tracked}\")\n",
    "    polygons_tracked = np.load(str(rois_python_tracked), allow_pickle=True)\n",
    "    \n",
    "    polygon_untracked = None\n",
    "    \n",
    "    if rois_python_untracked is not None:\n",
    "        print(f\"Loading untracked python polygons from {rois_python_untracked}\")\n",
    "        polygons_untracked = np.load(str(rois_python_untracked), allow_pickle=True)\n",
    "        \n",
    "    \n",
    "    print(f\"Loading ROIs per track from {rois_trackmate}\")\n",
    "    tracks = []\n",
    "    with open(str(rois_trackmate)) as _f:\n",
    "        csv_reader = csv.reader(_f, delimiter=',')\n",
    "        for row in csv_reader:\n",
    "            # parse FRAME_INDEX name as tuple to index into loaded python rois\n",
    "            tracks.append([tuple(int(v)-1 for v in r.strip().split('_')) for r in row])\n",
    "    print(f\"Found {len(tracks)} tracks in dataset!\")\n",
    "    \n",
    "    return polygons_tracked, polygons_untracked, tracks"
   ]
  },
  {
   "cell_type": "markdown",
   "metadata": {},
   "source": [
    "### Polygon processing helper functions\n",
    "These functions help with matching polygons in the untracked channel to the polygons present in tracks (only applicable to two-colour data)"
   ]
  },
  {
   "cell_type": "code",
   "execution_count": 7,
   "metadata": {},
   "outputs": [],
   "source": [
    "def get_centroid(polygon):\n",
    "    \n",
    "    xvals = polygon[0]\n",
    "    yvals = polygon[1]\n",
    "    nvals = len(xvals)\n",
    "    \n",
    "    A = 0\n",
    "    c_x = 0\n",
    "    c_y = 0\n",
    "    \n",
    "    for i in range(0, nvals):\n",
    "        j = i+1\n",
    "        \n",
    "        xi = xvals[i]\n",
    "        yi = yvals[i]\n",
    "        \n",
    "        if(j==nvals):\n",
    "            j=0\n",
    "        xj = xvals[j]\n",
    "        yj = yvals[j]\n",
    "        \n",
    "        cross_val = xi*yj - xj*yi\n",
    "        A += cross_val/2\n",
    "        \n",
    "        c_x += (xi+xj)*cross_val\n",
    "        c_y += (yi+yj)*cross_val\n",
    "    \n",
    "    c_x /= 6*A\n",
    "    c_y /= 6*A\n",
    "    \n",
    "    return c_x, c_y\n",
    "\n",
    "def polygons_to_centroids(polygons):\n",
    "    coords = polygons['coord']\n",
    "    centroids_map = {}\n",
    "    \n",
    "    for n in range(0, len(coords)):\n",
    "        centroids = []\n",
    "        for polygon in coords[n]:\n",
    "            c_x, c_y = get_centroid(polygon)\n",
    "            centroids.append([c_x, c_y])\n",
    "\n",
    "        centroids_map[n] = centroids\n",
    "    \n",
    "    return centroids_map"
   ]
  },
  {
   "cell_type": "markdown",
   "metadata": {},
   "source": [
    "### Track processing helper functions\n",
    "You don't need to change these, but for reference here is a description of what each helper function does.\n",
    "\n",
    "`get_rois_for_track` loops through each frame of a track and associates the ROIs within each frame with Stardist polygon objects.\n",
    "\n",
    "`get_box_for_rois` finds the bounding box to contain a tracked event so that it can be cropped out later.\n",
    "\n",
    "`translate_rois` translates the coordinates of the Stardist ROIs from the whole image to a cropped image.\n",
    "\n",
    "`_plot_polygon` draws the segmentations onto images for visual inspection.\n",
    "\n",
    "`plot_track` plots each cropped frame in the track into a single image, with the Stardist segmentations drawn over the top.\n",
    "\n",
    "`export_crop_with_rois` saves each cropped track as a separate tif stack, along with a .npz file of Python-readable Stardist ROIs for each track, ImageJ-readable .zip file of ROIs for each track, and a binary mask image of the relevant segmentations in each track."
   ]
  },
  {
   "cell_type": "code",
   "execution_count": 10,
   "metadata": {},
   "outputs": [],
   "source": [
    "def get_rois_for_track(track, polygons_tracked, polygons_untracked=None):\n",
    "    # get coordinates for polygons in tracked channel\n",
    "    coords_tracked = polygons_tracked['coord']\n",
    "    \n",
    "    # get coordinates and centrois for polygons in untracked channel\n",
    "    if polygons_untracked is not None:\n",
    "        coords_untracked = polygons_untracked['coord']\n",
    "        centroids_untracked = polygons_to_centroids(polygons_untracked)\n",
    "        \n",
    "    track_rois = []\n",
    "    track_maps = {}\n",
    "    \n",
    "    for roi in track:\n",
    "        frame = roi[0]\n",
    "        index_tracked_polygon = roi[1]\n",
    "                \n",
    "        assert frame < len(coords_tracked)\n",
    "        assert index_tracked_polygon < len(coords_tracked[frame])\n",
    "        \n",
    "        _coords_tracked = coords_tracked[frame][index_tracked_polygon]\n",
    "        \n",
    "        # deal with tracked polygon\n",
    "        track_rois.append(_coords_tracked)\n",
    "        track_maps.setdefault(f'{frame}_tracked',[]).append(_coords_tracked)\n",
    "        \n",
    "        if two_colour_analysis:\n",
    "            # find untracked polygons with centroids contained inside tracked polygons\n",
    "            untracked_centroids_this_frame = centroids_untracked.get(frame)\n",
    "            tracked_path = mpltPath.Path(np.transpose(_coords_tracked))\n",
    "            inside_polygon = tracked_path.contains_points(untracked_centroids_this_frame)\n",
    "            contained_untracked_indices = np.where(inside_polygon)[0]\n",
    "            \n",
    "            if len(contained_untracked_indices)==0:\n",
    "                track_maps.setdefault(f'{frame}_untracked', [])\n",
    "                continue\n",
    "            \n",
    "            for i in contained_untracked_indices:\n",
    "                _coords_untracked = coords_untracked[frame][i]\n",
    "                track_maps.setdefault(f'{frame}_untracked', []).append(_coords_untracked)\n",
    "        \n",
    "    track_rois = np.stack(track_rois,axis=0)\n",
    "    return track_rois, track_maps\n",
    "\n",
    "\n",
    "def get_box_for_rois(track_rois, img_shape, pad=0):\n",
    "    assert len(img_shape) == 2\n",
    "    vmin = np.min(track_rois,axis=(0,2)) - pad\n",
    "    vmax = np.max(track_rois,axis=(0,2)) + pad\n",
    "    slices = tuple (\n",
    "        slice(\n",
    "            np.maximum(0, int(np.round(a))),\n",
    "            np.minimum(s, int(np.round(b)))\n",
    "        )\n",
    "        for a,b,s in zip(vmin,vmax,img_shape)\n",
    "    )\n",
    "    return vmin, vmax, slices\n",
    "\n",
    "\n",
    "def translate_rois(rois, vmin):\n",
    "    # print(type(rois))\n",
    "    if vmin.ndim == 1: vmin = np.expand_dims(vmin, -1)\n",
    "    if isinstance(rois,np.ndarray):\n",
    "        return np.stack(translate_rois(list(rois), vmin))\n",
    "    elif isinstance(rois,(tuple,list)):\n",
    "        return type(rois)(roi - vmin for roi in rois)\n",
    "    elif isinstance(rois,dict):\n",
    "        return {k: translate_rois(v, vmin) for k,v in rois.items()}\n",
    "\n",
    "\n",
    "def _plot_polygon(x,y,score=2,color='w',ax=None,**kwargs):\n",
    "    a,b = list(x),list(y)\n",
    "    a += a[:1]\n",
    "    b += b[:1]\n",
    "    if ax is None:\n",
    "        ax = plt\n",
    "    ax.plot(a,b,'--', alpha=1, linewidth=score, zorder=1, color=color, **kwargs)\n",
    "    \n",
    "\n",
    "def plot_track(crop, crop_rois, preview_dir, j, n_cols=16, figsize=(25,5),  imshow_kwargs=None, poly_kwargs=None):\n",
    "    if imshow_kwargs is None: imshow_kwargs = {}\n",
    "    if poly_kwargs is None: poly_kwargs = {}\n",
    "    n_frames = len(crop)\n",
    "    n_rows = int(np.ceil(n_frames / n_cols))\n",
    "    fig, ax = plt.subplots(n_rows, n_cols, figsize=figsize)\n",
    "    for i,(c,a) in enumerate(zip(crop,ax.ravel())):\n",
    "        a.imshow(c, **imshow_kwargs)\n",
    "        a.set_title(i)\n",
    "        if f'{i}_tracked' in crop_rois:\n",
    "            [_plot_polygon(r[1],r[0], ax=a, color='w', **poly_kwargs) for r in crop_rois.get(f'{i}_tracked')]\n",
    "        if f'{i}_untracked' in crop_rois:\n",
    "            [_plot_polygon(r[1],r[0], ax=a, color='c', **poly_kwargs) for r in crop_rois.get(f'{i}_untracked')]\n",
    "    [a.axis('off') for a in ax.ravel()]\n",
    "    plt.tight_layout()\n",
    "    save_path = preview_dir/f'{j:03}'\n",
    "    plt.savefig(str(save_path))\n",
    "    plt.close()    \n",
    "    \n",
    "    \n",
    "def export_crop_with_rois(tif_dir, mask_tif_dir, polygon_dir, rois_dir, i, crop, crop_rois, two_colour_analysis, axes='TCYX'):\n",
    "    crop_name = f'{f}_crop_{i:03}'\n",
    "    \n",
    "    crop_tif = Path(tif_dir / f'{crop_name}.tif')\n",
    "    \n",
    "    if not two_colour_analysis:\n",
    "        crop_lbl_tif_tracked = Path(mask_tif_dir / f'{crop_name}_mask.tif')\n",
    "        crop_roi_tracked = Path(rois_dir / f'{crop_name}.zip')\n",
    "        crop_roi_npz_tracked = Path(polygon_dir / f'{crop_name}.npz')\n",
    "    else:\n",
    "        crop_lbl_tif_tracked = Path(mask_tif_dir / 'tracked channel' / f'{crop_name}_mask.tif')\n",
    "        crop_roi_tracked = Path(rois_dir / 'tracked channel' / f'{crop_name}.zip')\n",
    "        crop_roi_npz_tracked = Path(polygon_dir / 'tracked channel' / f'{crop_name}.npz')\n",
    "        \n",
    "        crop_lbl_tif_untracked = Path(mask_tif_dir / 'untracked channel' / f'{crop_name}_mask.tif')\n",
    "        crop_roi_untracked = Path(rois_dir / 'untracked channel' / f'{crop_name}.zip')\n",
    "        crop_roi_npz_untracked = Path(polygon_dir / 'untracked channel' / f'{crop_name}.npz')\n",
    "    \n",
    "    n_frames = len(crop)\n",
    "    save_tiff_imagej_compatible(str(crop_tif), crop, axes, metadata=imagej_metadata)\n",
    "    \n",
    "    tracked_rois_list = [crop_rois.get(f'{t}_tracked',[]) for t in range(n_frames)]\n",
    "    export_imagej_rois(str(crop_roi_tracked), tracked_rois_list)\n",
    "    np.savez(str(crop_roi_npz_tracked),coord=tracked_rois_list)\n",
    "    \n",
    "    if two_colour_analysis:\n",
    "        untracked_rois_list = [crop_rois.get(f'{t}_untracked',[]) for t in range(n_frames)]\n",
    "        export_imagej_rois(str(crop_roi_untracked), untracked_rois_list)\n",
    "        np.savez(str(crop_roi_npz_untracked),coord=untracked_rois_list)\n",
    "    \n",
    "    labels_tracked = []\n",
    "    for frame,rois in zip(crop,tracked_rois_list):\n",
    "        lbl = np.zeros(frame.shape[-2:], np.uint8)\n",
    "        for roi in rois:\n",
    "            rr,cc = polygon(roi[0],roi[1],lbl.shape)\n",
    "            lbl[rr,cc] = 255\n",
    "        labels_tracked.append(lbl)\n",
    "    labels_tracked = np.stack(labels_tracked)\n",
    "    save_tiff_imagej_compatible(str(crop_lbl_tif_tracked), labels_tracked, axes[0]+axes[-2:], compress=6)\n",
    "    \n",
    "    if two_colour_analysis:\n",
    "        labels_untracked = []\n",
    "        for frame,rois in zip(crop,untracked_rois_list):\n",
    "            lbl = np.zeros(frame.shape[-2:], np.uint8)\n",
    "            for roi in rois:\n",
    "                if np.shape(roi)[-1]==0:\n",
    "                    continue\n",
    "                rr,cc = polygon(roi[0],roi[1],lbl.shape)\n",
    "                lbl[rr,cc] = 255\n",
    "            labels_untracked.append(lbl)\n",
    "        labels_untracked = np.stack(labels_untracked)\n",
    "        save_tiff_imagej_compatible(str(crop_lbl_tif_untracked), labels_untracked, axes[0]+axes[-2:], compress=6)\n",
    "    \n",
    "    \n",
    "def export_crops_to_file(f, tracks, polygons_tracked, polygons_untracked, T, axes):\n",
    "\n",
    "    # set up file saving structure\n",
    "      \n",
    "    crop_dir = results_dir / f\"crops_{f}\"\n",
    "    crop_dir.mkdir(exist_ok=True)\n",
    "    \n",
    "    tif_dir = crop_dir / f'tifs'\n",
    "    tif_dir.mkdir(exist_ok=True)\n",
    "    \n",
    "    mask_tif_dir = crop_dir / f'mask tifs'\n",
    "    mask_tif_dir.mkdir(exist_ok=True)\n",
    "    if polygons_untracked is not None:\n",
    "        mask_tif_tracked_dir = mask_tif_dir / f'tracked channel'\n",
    "        mask_tif_tracked_dir.mkdir(exist_ok=True)\n",
    "        mask_tif_untracked_dir = mask_tif_dir / f'untracked channel'\n",
    "        mask_tif_untracked_dir.mkdir(exist_ok=True)\n",
    "    \n",
    "    polygon_dir = crop_dir / f'polygons'\n",
    "    polygon_dir.mkdir(exist_ok=True)\n",
    "    if polygons_untracked is not None:\n",
    "        polygon_tracked_dir = polygon_dir / f'tracked channel'\n",
    "        polygon_tracked_dir.mkdir(exist_ok=True)\n",
    "        polygon_untracked_dir = polygon_dir / f'untracked channel'\n",
    "        polygon_untracked_dir.mkdir(exist_ok=True)\n",
    "    \n",
    "    rois_dir = crop_dir / f'imagej rois'\n",
    "    rois_dir.mkdir(exist_ok=True)\n",
    "    if polygons_untracked is not None:\n",
    "        rois_tracked_dir = rois_dir / f'tracked channel'\n",
    "        rois_tracked_dir.mkdir(exist_ok=True)\n",
    "        rois_untracked_dir = rois_dir / f'untracked channel'\n",
    "        rois_untracked_dir.mkdir(exist_ok=True)\n",
    "    \n",
    "    preview_dir = crop_dir / f'preview timelapse'\n",
    "    preview_dir.mkdir(exist_ok=True)\n",
    "    \n",
    "\n",
    "    for i,track in tqdm(enumerate(tracks),total=len(tracks)):\n",
    "        track_rois, track_maps = get_rois_for_track(track, polygons_tracked, polygons_untracked)\n",
    "        vmin, vmax, slices = get_box_for_rois(track_rois, T.shape[-2:], pad=3)\n",
    "        crop_T         = T[((slice(None),)*(T.ndim-2))+slices]\n",
    "        crop_timelapse = timelapse[(slice(None),)+slices+(slice(None),)]\n",
    "\n",
    "        crop_rois_per_frame = translate_rois(track_maps, vmin)\n",
    "        export_crop_with_rois(tif_dir, mask_tif_dir, polygon_dir, rois_dir, i, crop_T, crop_rois_per_frame, two_colour_analysis, axes=axes)\n",
    "        plot_track(crop_timelapse, crop_rois_per_frame, preview_dir, i, n_cols=16, figsize=(40,8))\n",
    "\n",
    "    return crop_dir"
   ]
  },
  {
   "cell_type": "markdown",
   "metadata": {},
   "source": [
    "# Main execution loop"
   ]
  },
  {
   "cell_type": "code",
   "execution_count": 11,
   "metadata": {},
   "outputs": [
    {
     "name": "stdout",
     "output_type": "stream",
     "text": [
      "****Analysing file: membrane_dna_1****\n",
      "Normalizing each frame -> 'timelapse' is meant for plotting, use 'T' for further analysis\n"
     ]
    },
    {
     "data": {
      "application/vnd.jupyter.widget-view+json": {
       "model_id": "d44d7fc9e8d144579f7ea529b15ed32f",
       "version_major": 2,
       "version_minor": 0
      },
      "text/plain": [
       "HBox(children=(FloatProgress(value=0.0, max=64.0), HTML(value='')))"
      ]
     },
     "metadata": {},
     "output_type": "display_data"
    },
    {
     "name": "stdout",
     "output_type": "stream",
     "text": [
      "\n",
      "Timelapse has axes TYX with shape (64, 600, 600, 3)\n",
      "Loading tracked python polygons from data\\two-colour data\\stardist results\\channel 1\\membrane_dna_1_prob=default_nms=0.70.npz\n",
      "Loading untracked python polygons from data\\two-colour data\\stardist results\\channel 2\\membrane_dna_1_prob=default_nms=0.70.npz\n",
      "Loading ROIs per track from data\\two-colour data\\tracking results\\DRIFTCORRECTED_membrane_dna_1_tracks.csv\n",
      "Found 23 tracks in dataset!\n"
     ]
    },
    {
     "data": {
      "application/vnd.jupyter.widget-view+json": {
       "model_id": "6f58f6faa6ac498c9e62582d8b4bf531",
       "version_major": 2,
       "version_minor": 0
      },
      "text/plain": [
       "HBox(children=(FloatProgress(value=0.0, max=23.0), HTML(value='')))"
      ]
     },
     "metadata": {},
     "output_type": "display_data"
    },
    {
     "name": "stdout",
     "output_type": "stream",
     "text": [
      "\n",
      "****Analysing file: membrane_dna_2****\n",
      "Normalizing each frame -> 'timelapse' is meant for plotting, use 'T' for further analysis\n"
     ]
    },
    {
     "data": {
      "application/vnd.jupyter.widget-view+json": {
       "model_id": "4919acf2462a485dbd61ede22c4ea2d6",
       "version_major": 2,
       "version_minor": 0
      },
      "text/plain": [
       "HBox(children=(FloatProgress(value=0.0, max=69.0), HTML(value='')))"
      ]
     },
     "metadata": {},
     "output_type": "display_data"
    },
    {
     "name": "stdout",
     "output_type": "stream",
     "text": [
      "\n",
      "Timelapse has axes TYX with shape (69, 600, 600, 3)\n",
      "Loading tracked python polygons from data\\two-colour data\\stardist results\\channel 1\\membrane_dna_2_prob=default_nms=0.70.npz\n",
      "Loading untracked python polygons from data\\two-colour data\\stardist results\\channel 2\\membrane_dna_2_prob=default_nms=0.70.npz\n",
      "Loading ROIs per track from data\\two-colour data\\tracking results\\DRIFTCORRECTED_membrane_dna_2_tracks.csv\n",
      "Found 9 tracks in dataset!\n"
     ]
    },
    {
     "data": {
      "application/vnd.jupyter.widget-view+json": {
       "model_id": "ab682fee41c249a093c1b2d38273cdbf",
       "version_major": 2,
       "version_minor": 0
      },
      "text/plain": [
       "HBox(children=(FloatProgress(value=0.0, max=9.0), HTML(value='')))"
      ]
     },
     "metadata": {},
     "output_type": "display_data"
    },
    {
     "name": "stdout",
     "output_type": "stream",
     "text": [
      "\n"
     ]
    }
   ],
   "source": [
    "for file in raw_files:\n",
    "    \n",
    "    f = file.stem\n",
    "    print(f'****Analysing file: {f}****')\n",
    "    \n",
    "    image, rois_python_tracked, rois_imagej_tracked, rois_python_untracked, rois_imagej_untracked, rois_trackmate = (\n",
    "        get_matching_files(f, drift_corrected, two_colour_analysis))\n",
    "    \n",
    "    timelapse, T, imagej_metadata, axes = track_pre_process(image)\n",
    "    \n",
    "    if not two_colour_analysis:\n",
    "        polygons_tracked, polygons_untracked, tracks = load_rois_and_tracks(rois_trackmate, rois_python_tracked)\n",
    "    else:\n",
    "        polygons_tracked, polygons_untracked, tracks = load_rois_and_tracks(rois_trackmate, rois_python_tracked, rois_python_untracked)\n",
    "    \n",
    "    export_crops_to_file(f, tracks, polygons_tracked, polygons_untracked, T, axes)\n",
    "    "
   ]
  },
  {
   "cell_type": "markdown",
   "metadata": {},
   "source": [
    "# Next steps\n",
    "I recommend opening all the images in the 'preview timelapse' folder as a stack in ImageJ. You can then inspect each of the identified division events and the associated segmentations drawn over the top.\n",
    "\n",
    "## `Curation_helper.ijm`\n",
    "This macro can help you generate a .csv file of manually curated tracks for further analysis.\n",
    "* Drag the 'preview timelapse' folder in 'results/(dataset being analysed)' onto ImageJ. When it asks you if you want to open the images as a stack, the answer is yes yes you do.\n",
    "* Press `Ctrl+A` to select the whole area.\n",
    "* Make sure the ROI manager is empty.\n",
    "* Move through the stack, and if the preview looks like an event that you want to analyse further, press `T` on the keyboard to add the frame to the ROI manager.\n",
    "* When you've finished checking the previews, run `Curation_helper.ijm`. This will prompt you for a save directory - this should be the relevant folder in 'results' for the dataset you are measuring.\n",
    "* This will save a .csv file containing the indices of the frames called `curated_results.csv` that can then be used in the `Measure_divisions_.ipynb` notebook, if you like."
   ]
  }
 ],
 "metadata": {
  "kernelspec": {
   "display_name": "Python 3",
   "language": "python",
   "name": "python3"
  },
  "language_info": {
   "codemirror_mode": {
    "name": "ipython",
    "version": 3
   },
   "file_extension": ".py",
   "mimetype": "text/x-python",
   "name": "python",
   "nbconvert_exporter": "python",
   "pygments_lexer": "ipython3",
   "version": "3.6.6"
  }
 },
 "nbformat": 4,
 "nbformat_minor": 2
}
