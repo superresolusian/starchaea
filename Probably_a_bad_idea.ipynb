{
 "cells": [
  {
   "cell_type": "code",
   "execution_count": 3,
   "metadata": {},
   "outputs": [
    {
     "name": "stdout",
     "output_type": "stream",
     "text": [
      "java.lang.RuntimeException: Cannot instantiate headless dialog except in macro mode\n",
      "\tat net.imagej.patcher.HeadlessGenericDialog.<init>(HeadlessGenericDialog.java:93)\n",
      "\tat ij.gui.GenericDialog.<init>(GenericDialog.java:108)\n",
      "\tat ij.gui.GenericDialog.<init>(GenericDialog.java:90)\n",
      "\tat ij.macro.Functions.doDialog(Functions.java:3811)\n",
      "\tat ij.macro.Functions.getStringFunction(Functions.java:268)\n",
      "\tat ij.macro.Interpreter.getStringTerm(Interpreter.java:1407)\n",
      "\tat ij.macro.Interpreter.getString(Interpreter.java:1385)\n",
      "\tat ij.macro.Interpreter.doStatement(Interpreter.java:329)\n",
      "\tat ij.macro.Interpreter.doBlock(Interpreter.java:671)\n",
      "\tat ij.macro.Interpreter.runUserFunction(Interpreter.java:370)\n",
      "\tat ij.macro.Interpreter.doStatement(Interpreter.java:281)\n",
      "\tat ij.macro.Interpreter.doStatements(Interpreter.java:261)\n",
      "\tat ij.macro.Interpreter.run(Interpreter.java:157)\n",
      "\tat ij.macro.Interpreter.run(Interpreter.java:91)\n",
      "\tat ij.macro.Interpreter.run(Interpreter.java:102)\n",
      "\tat ij.plugin.Macro_Runner.runMacro(Macro_Runner.java:161)\n",
      "\tat ij.plugin.Macro_Runner.runMacroFile(Macro_Runner.java:145)\n",
      "\tat ij.IJ.runMacroFile(IJ.java:160)\n",
      "\tat net.imagej.legacy.IJ1Helper$4.call(IJ1Helper.java:1125)\n",
      "\tat net.imagej.legacy.IJ1Helper$4.call(IJ1Helper.java:1121)\n",
      "\tat net.imagej.legacy.IJ1Helper.runMacroFriendly(IJ1Helper.java:1055)\n",
      "\tat net.imagej.legacy.IJ1Helper.runMacroFile(IJ1Helper.java:1121)\n",
      "\tat net.imagej.legacy.LegacyCommandline$Macro.handle(LegacyCommandline.java:187)\n",
      "\tat org.scijava.console.DefaultConsoleService.processArgs(DefaultConsoleService.java:102)\n",
      "\tat org.scijava.AbstractGateway.launch(AbstractGateway.java:97)\n",
      "\tat net.imagej.Main.main(Main.java:55)\n",
      "\tat sun.reflect.NativeMethodAccessorImpl.invoke0(Native Method)\n",
      "\tat sun.reflect.NativeMethodAccessorImpl.invoke(NativeMethodAccessorImpl.java:62)\n",
      "\tat sun.reflect.DelegatingMethodAccessorImpl.invoke(DelegatingMethodAccessorImpl.java:43)\n",
      "\tat java.lang.reflect.Method.invoke(Method.java:498)\n",
      "\tat net.imagej.launcher.ClassLauncher.launch(ClassLauncher.java:279)\n",
      "\tat net.imagej.launcher.ClassLauncher.run(ClassLauncher.java:186)\n",
      "\tat net.imagej.launcher.ClassLauncher.main(ClassLauncher.java:77)\n",
      "\n"
     ]
    },
    {
     "name": "stderr",
     "output_type": "stream",
     "text": [
      "Apr 07, 2020 7:36:44 PM java.util.prefs.WindowsPreferences <init>\n",
      "WARNING: Could not open/create prefs root node Software\\JavaSoft\\Prefs at root 0x80000002. Windows RegCreateKeyEx(...) returned error code 5.\n",
      "Java HotSpot(TM) 64-Bit Server VM warning: ignoring option PermSize=128m; support was removed in 8.0\n",
      "Java HotSpot(TM) 64-Bit Server VM warning: Using incremental CMS is deprecated and will likely be removed in a future release\n"
     ]
    }
   ],
   "source": [
    "! C:/Fiji_clean/Fiji.app/ImageJ-win64.exe --headless -macro \"C:/Users/sianc/Code/starchaea/Tracking_helper.ijm\""
   ]
  },
  {
   "cell_type": "code",
   "execution_count": null,
   "metadata": {},
   "outputs": [],
   "source": []
  }
 ],
 "metadata": {
  "kernelspec": {
   "display_name": "Python 3",
   "language": "python",
   "name": "python3"
  },
  "language_info": {
   "codemirror_mode": {
    "name": "ipython",
    "version": 3
   },
   "file_extension": ".py",
   "mimetype": "text/x-python",
   "name": "python",
   "nbconvert_exporter": "python",
   "pygments_lexer": "ipython3",
   "version": "3.6.6"
  }
 },
 "nbformat": 4,
 "nbformat_minor": 2
}
